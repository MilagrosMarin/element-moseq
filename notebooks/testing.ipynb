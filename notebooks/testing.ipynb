{
 "cells": [
  {
   "cell_type": "code",
   "execution_count": null,
   "metadata": {},
   "outputs": [],
   "source": [
    "import os\n",
    "\n",
    "if os.path.basename(os.getcwd()) == \"notebooks\":\n",
    "    os.chdir(\"..\")\n",
    "assert os.path.basename(os.getcwd()) == \"element-moseq\", (\n",
    "    \"Please move to the \" + \"element directory\"\n",
    ")"
   ]
  },
  {
   "cell_type": "code",
   "execution_count": null,
   "metadata": {},
   "outputs": [],
   "source": [
    "import datajoint as dj\n",
    "from pathlib import Path"
   ]
  },
  {
   "cell_type": "code",
   "execution_count": null,
   "metadata": {},
   "outputs": [],
   "source": [
    "dj.config.load(\"dj_local_conf.json\")"
   ]
  },
  {
   "cell_type": "code",
   "execution_count": null,
   "metadata": {},
   "outputs": [],
   "source": [
    "dj.conn()"
   ]
  },
  {
   "cell_type": "code",
   "execution_count": null,
   "metadata": {},
   "outputs": [],
   "source": [
    "# dj.schema('vathes-team_devlab_milagros_moseq_testing3_pca').drop()"
   ]
  },
  {
   "cell_type": "code",
   "execution_count": null,
   "metadata": {},
   "outputs": [],
   "source": [
    "from tutorial_pipeline import lab, subject, session, pca, model, Device"
   ]
  },
  {
   "cell_type": "code",
   "execution_count": null,
   "metadata": {},
   "outputs": [],
   "source": [
    "# pca.KeypointSet.VideoFiles.delete_quick()\n",
    "# pca.KeypointSet.PoseEstimationMethod.delete_quick()\n",
    "# pca.PCAInfo.delete_quick()\n",
    "# pca.KeypointSet.delete()"
   ]
  },
  {
   "cell_type": "code",
   "execution_count": null,
   "metadata": {},
   "outputs": [],
   "source": [
    "dj.Diagram(pca)\n",
    "#+ dj.Diagram(model)"
   ]
  },
  {
   "cell_type": "code",
   "execution_count": null,
   "metadata": {},
   "outputs": [],
   "source": [
    "pca.KeypointSet()"
   ]
  },
  {
   "cell_type": "code",
   "execution_count": null,
   "metadata": {},
   "outputs": [],
   "source": [
    "# Subject and Session tables\n",
    "subject.Subject.insert1(\n",
    "    dict(\n",
    "        subject=\"subject1\",\n",
    "        sex=\"F\",\n",
    "        subject_birth_date=\"2020-01-01\",\n",
    "        subject_description=\"test\",\n",
    "    ),\n",
    "    skip_duplicates=True,\n",
    ")\n",
    "\n",
    "#Definition of the dictionary named \"session_keys\"\n",
    "session_keys = [\n",
    "    dict(subject=\"subject1\", session_datetime=\"2021-06-02 14:04:22\"),\n",
    "    dict(subject=\"subject1\", session_datetime=\"2021-06-03 14:43:10\"),\n",
    "]\n",
    "\n",
    "#Insert this dictionary in the Session table\n",
    "session.Session.insert(session_keys, skip_duplicates=True)"
   ]
  },
  {
   "cell_type": "code",
   "execution_count": null,
   "metadata": {},
   "outputs": [],
   "source": [
    "kpset_key = dict(subject=\"subject1\",\n",
    "            session_datetime=\"2021-06-02 14:04:22\",\n",
    "            kpset_id=1)\n",
    "pca.KeypointSet.insert1({**kpset_key, \n",
    "                            \"kpset_path\":\"/input_data/videos\",\n",
    "                            \"kpset_description\":\"testing pca schema\"},\n",
    "                            skip_duplicates=True)"
   ]
  },
  {
   "cell_type": "code",
   "execution_count": null,
   "metadata": {},
   "outputs": [],
   "source": [
    "pca.KeypointSet()"
   ]
  },
  {
   "cell_type": "code",
   "execution_count": null,
   "metadata": {},
   "outputs": [],
   "source": [
    "video_files = [\"/input_data/videos/21_11_8_one_mouse.top.ir.Mp4\",\n",
    "               \"/input_data/videos/21_12_2_def6a_1.top.ir.mp4\",\n",
    "               \"/input_data/videos/21_12_2_def6b_2.top.ir.mp4\"]\n",
    "\n",
    "pca.KeypointSet.VideoFiles.insert(\n",
    "    ({**kpset_key, \"video_id\":v_idx, \"video_path\":Path(f)}\n",
    "    for v_idx, f in enumerate(video_files)),\n",
    "    skip_duplicates=True\n",
    ")"
   ]
  },
  {
   "cell_type": "code",
   "execution_count": null,
   "metadata": {},
   "outputs": [],
   "source": [
    "pca.KeypointSet.VideoFiles()"
   ]
  },
  {
   "cell_type": "code",
   "execution_count": null,
   "metadata": {},
   "outputs": [],
   "source": [
    "pca.KeypointSet.PoseEstimationMethod.insert1(\n",
    "    {**kpset_key,\n",
    "     \"format\":\"deeplabcut\",\n",
    "     \"extension\":\"h5\",\n",
    "     \"device\":\"Camera1\"},\n",
    "     skip_duplicates=True\n",
    ")"
   ]
  },
  {
   "cell_type": "code",
   "execution_count": null,
   "metadata": {},
   "outputs": [],
   "source": [
    "pca.KeypointSet.PoseEstimationMethod()"
   ]
  },
  {
   "cell_type": "code",
   "execution_count": null,
   "metadata": {},
   "outputs": [],
   "source": [
    "# pca.RecordingInfo.populate()"
   ]
  },
  {
   "cell_type": "code",
   "execution_count": null,
   "metadata": {},
   "outputs": [],
   "source": [
    "pca.Bodyparts()"
   ]
  },
  {
   "cell_type": "code",
   "execution_count": null,
   "metadata": {},
   "outputs": [],
   "source": [
    "# Insert data in PCAInfo table\n",
    "bodypart_key = {**kpset_key,\n",
    "                \"bodyparts_id\":1}\n",
    "pca.Bodyparts.insert1({**bodypart_key,\n",
    "                \"anterior_bodyparts\":\"nose\",\n",
    "                \"posterior_bodyparts\":\"spine4\",\n",
    "                \"use_bodyparts\":['spine4', 'spine3', 'spine2', 'spine1',\n",
    "                'head', 'nose', 'right ear', 'left ear']},\n",
    "                    skip_duplicates=True)\n",
    "\n"
   ]
  },
  {
   "cell_type": "code",
   "execution_count": null,
   "metadata": {},
   "outputs": [],
   "source": [
    "pca.DataLoadingTask.insert1({**bodypart_key,\n",
    "                            \"task_mode\":\"load\"},\n",
    "                            skip_duplicates=True)"
   ]
  },
  {
   "cell_type": "code",
   "execution_count": null,
   "metadata": {},
   "outputs": [],
   "source": [
    "pca.DataLoadingTask()"
   ]
  },
  {
   "cell_type": "code",
   "execution_count": null,
   "metadata": {},
   "outputs": [],
   "source": [
    "pca.DataLoadingTask.generate(bodypart_key)"
   ]
  },
  {
   "cell_type": "code",
   "execution_count": null,
   "metadata": {},
   "outputs": [],
   "source": [
    "pca.DataLoadingTask.FormattedDataset()"
   ]
  }
 ],
 "metadata": {
  "kernelspec": {
   "display_name": "kpms_test",
   "language": "python",
   "name": "python3"
  },
  "language_info": {
   "codemirror_mode": {
    "name": "ipython",
    "version": 3
   },
   "file_extension": ".py",
   "mimetype": "text/x-python",
   "name": "python",
   "nbconvert_exporter": "python",
   "pygments_lexer": "ipython3",
   "version": "3.9.18"
  },
  "orig_nbformat": 4
 },
 "nbformat": 4,
 "nbformat_minor": 2
}
