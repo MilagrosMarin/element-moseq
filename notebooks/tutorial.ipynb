{
 "cells": [
  {
   "cell_type": "markdown",
   "metadata": {},
   "source": [
    "# DataJoint Element for Motion Sequencing with Keypoint MoSeq\n"
   ]
  },
  {
   "cell_type": "markdown",
   "metadata": {},
   "source": [
    "#### **Open-source Data Pipeline for Motion Sequencing in Neurophysiology**\n"
   ]
  },
  {
   "cell_type": "markdown",
   "metadata": {},
   "source": [
    "Welcome to the tutorial for the DataJoint Element for motion sequencing analysis. This tutorial aims to provide a comprehensive understanding of the open-source data pipeline by `element-moseq`.\n"
   ]
  },
  {
   "cell_type": "code",
   "execution_count": null,
   "metadata": {},
   "outputs": [],
   "source": [
    "![pipeline](../images/flowchart.svg)"
   ]
  },
  {
   "cell_type": "code",
   "execution_count": null,
   "metadata": {},
   "outputs": [],
   "source": [
    "import os\n",
    "\n",
    "if os.path.basename(os.getcwd()) == \"notebooks\":\n",
    "    os.chdir(\"..\")"
   ]
  },
  {
   "cell_type": "code",
   "execution_count": null,
   "metadata": {},
   "outputs": [],
   "source": [
    "import datajoint as dj\n",
    "from pathlib import Path\n",
    "import numpy as np\n"
   ]
  },
  {
   "cell_type": "code",
   "execution_count": null,
   "metadata": {},
   "outputs": [],
   "source": [
    "dj.list_schemas()"
   ]
  },
  {
   "cell_type": "code",
   "execution_count": null,
   "metadata": {},
   "outputs": [],
   "source": [
    "dj.schema(\"vathes-team_devlab_mila_kpmstest_kpms_model\").drop()\n",
    "dj.schema(\"vathes-team_devlab_mila_kpmstest_kpms_pca\")"
   ]
  },
  {
   "cell_type": "code",
   "execution_count": null,
   "metadata": {},
   "outputs": [],
   "source": [
    "from tutorial_pipeline import lab, subject, session, kpms_pca, kpms_model"
   ]
  },
  {
   "cell_type": "markdown",
   "metadata": {},
   "source": [
    "## 1. FIT PCA MODEL AND LATENT DIMENSIONS\n"
   ]
  },
  {
   "cell_type": "code",
   "execution_count": null,
   "metadata": {},
   "outputs": [],
   "source": [
    "(\n",
    "    dj.Diagram(subject.Subject)\n",
    "    + dj.Diagram(session.Session)\n",
    "    + dj.Diagram(kpms_pca)\n",
    "    + dj.Diagram(kpms_model)\n",
    ")"
   ]
  },
  {
   "cell_type": "code",
   "execution_count": null,
   "metadata": {},
   "outputs": [],
   "source": [
    "kpms_pca.KeypointSet()"
   ]
  },
  {
   "cell_type": "code",
   "execution_count": null,
   "metadata": {},
   "outputs": [],
   "source": [
    "# Subject and Session tables\n",
    "subject.Subject.insert1(\n",
    "    dict(\n",
    "        subject=\"subject1\",\n",
    "        sex=\"F\",\n",
    "        subject_birth_date=\"2020-01-01\",\n",
    "        subject_description=\"test\",\n",
    "    ),\n",
    "    skip_duplicates=True,\n",
    ")\n",
    "\n",
    "# Definition of the dictionary named \"session_keys\"\n",
    "session_keys = [\n",
    "    dict(subject=\"subject1\", session_datetime=\"2021-06-02 14:04:22\"),\n",
    "    dict(subject=\"subject1\", session_datetime=\"2021-06-03 14:43:10\"),\n",
    "]\n",
    "\n",
    "# Insert this dictionary in the Session table\n",
    "session.Session.insert(session_keys, skip_duplicates=True)"
   ]
  },
  {
   "cell_type": "code",
   "execution_count": null,
   "metadata": {},
   "outputs": [],
   "source": [
    "kpms_pca.PoseEstimationMethod()"
   ]
  },
  {
   "cell_type": "code",
   "execution_count": null,
   "metadata": {},
   "outputs": [],
   "source": [
    "kpset_key = dict(subject=\"subject1\", session_datetime=\"2021-06-02 14:04:22\", kpset_id=1)\n",
    "\n",
    "kpms_pca.KeypointSet.insert1(\n",
    "    {\n",
    "        **kpset_key,\n",
    "        \"format_method\": \"deeplabcut\",\n",
    "        \"kpset_config_dir\": \"/Users/milagros/Documents/datajoint-elements/element-moseq/data/inbox/input_data\",\n",
    "        \"kpset_videos_dir\": \"/Users/milagros/Documents/datajoint-elements/element-moseq/data/inbox/input_data/videos\",\n",
    "        \"kpset_desc\": \"testing kpms pca schema\",\n",
    "    },\n",
    "    skip_duplicates=True,\n",
    ")"
   ]
  },
  {
   "cell_type": "code",
   "execution_count": null,
   "metadata": {},
   "outputs": [],
   "source": [
    "kpms_pca.KeypointSet()"
   ]
  },
  {
   "cell_type": "code",
   "execution_count": null,
   "metadata": {},
   "outputs": [],
   "source": [
    "video_files = [\n",
    "    \"/Users/milagros/Documents/datajoint-elements/element-moseq/data/inbox/input_data/videos/21_11_8_one_mouse.top.ir.Mp4\",\n",
    "    \"/Users/milagros/Documents/datajoint-elements/element-moseq/data/inbox/input_data/videos/21_12_2_def6a_1.top.ir.mp4\",\n",
    "    \"/Users/milagros/Documents/datajoint-elements/element-moseq/data/inbox/input_data/videos/21_12_2_def6b_2.top.ir.mp4\",\n",
    "]\n",
    "\n",
    "kpms_pca.KeypointSet.VideoFile.insert(\n",
    "    (\n",
    "        {**kpset_key, \"video_id\": v_idx, \"video_path\": Path(f)}\n",
    "        for v_idx, f in enumerate(video_files)\n",
    "    ),\n",
    "    skip_duplicates=True,\n",
    ")"
   ]
  },
  {
   "cell_type": "code",
   "execution_count": null,
   "metadata": {},
   "outputs": [],
   "source": [
    "kpms_pca.KeypointSet.VideoFile()"
   ]
  },
  {
   "cell_type": "code",
   "execution_count": null,
   "metadata": {},
   "outputs": [],
   "source": [
    "kpms_pca.RecordingInfo()"
   ]
  },
  {
   "cell_type": "code",
   "execution_count": null,
   "metadata": {},
   "outputs": [],
   "source": [
    "kpms_pca.RecordingInfo.populate()"
   ]
  },
  {
   "cell_type": "code",
   "execution_count": null,
   "metadata": {},
   "outputs": [],
   "source": [
    "kpms_pca.RecordingInfo()"
   ]
  },
  {
   "cell_type": "code",
   "execution_count": null,
   "metadata": {},
   "outputs": [],
   "source": [
    "kpms_pca.Bodyparts()"
   ]
  },
  {
   "cell_type": "code",
   "execution_count": null,
   "metadata": {},
   "outputs": [],
   "source": [
    "bodypart_key = {**kpset_key, \"bodyparts_id\": 1}\n",
    "kpms_pca.Bodyparts.insert1(\n",
    "    {\n",
    "        **bodypart_key,\n",
    "        \"anterior_bodyparts\": [\"nose\"],\n",
    "        \"posterior_bodyparts\": [\"spine4\"],\n",
    "        \"use_bodyparts\": [\n",
    "            \"spine4\",\n",
    "            \"spine3\",\n",
    "            \"spine2\",\n",
    "            \"spine1\",\n",
    "            \"head\",\n",
    "            \"nose\",\n",
    "            \"right ear\",\n",
    "            \"left ear\",\n",
    "        ],\n",
    "    },\n",
    "    skip_duplicates=True,\n",
    ")"
   ]
  },
  {
   "cell_type": "code",
   "execution_count": null,
   "metadata": {},
   "outputs": [],
   "source": [
    "kpms_pca.Bodyparts()"
   ]
  },
  {
   "cell_type": "code",
   "execution_count": null,
   "metadata": {},
   "outputs": [],
   "source": [
    "kpms_pca.PCATask()"
   ]
  },
  {
   "cell_type": "code",
   "execution_count": null,
   "metadata": {},
   "outputs": [],
   "source": [
    "kpms_pca.PCATask.insert1(\n",
    "    {\n",
    "        **bodypart_key,\n",
    "        \"output_dir\": \"/Users/milagros/Documents/datajoint-elements/element-moseq/data/outbox/kpms_project_testing\",\n",
    "        \"task_mode\": \"trigger\",\n",
    "    },\n",
    "    skip_duplicates=True,\n",
    ")"
   ]
  },
  {
   "cell_type": "code",
   "execution_count": null,
   "metadata": {},
   "outputs": [],
   "source": [
    "kpms_pca.PCATask()"
   ]
  },
  {
   "cell_type": "code",
   "execution_count": null,
   "metadata": {},
   "outputs": [],
   "source": [
    "key = (kpms_pca.PCATask & \"task_mode = 'trigger'\").fetch1(\"KEY\")\n",
    "key"
   ]
  },
  {
   "cell_type": "code",
   "execution_count": null,
   "metadata": {},
   "outputs": [],
   "source": [
    "kpms_pca.FormattedDataset()"
   ]
  },
  {
   "cell_type": "code",
   "execution_count": null,
   "metadata": {},
   "outputs": [],
   "source": [
    "kpms_pca.FormattedDataset.populate()"
   ]
  },
  {
   "cell_type": "code",
   "execution_count": null,
   "metadata": {},
   "outputs": [],
   "source": [
    "kpms_pca.FormattedDataset()"
   ]
  },
  {
   "cell_type": "markdown",
   "metadata": {},
   "source": [
    "The `PCAFitting` computation will fit a PCA model to aligned and centered keypoint coordinates\n"
   ]
  },
  {
   "cell_type": "code",
   "execution_count": null,
   "metadata": {},
   "outputs": [],
   "source": [
    "kpms_pca.PCAFitting()"
   ]
  },
  {
   "cell_type": "code",
   "execution_count": null,
   "metadata": {},
   "outputs": [],
   "source": [
    "kpms_pca.PCAFitting.populate()"
   ]
  },
  {
   "cell_type": "code",
   "execution_count": null,
   "metadata": {},
   "outputs": [],
   "source": [
    "kpms_pca.PCAFitting()"
   ]
  },
  {
   "cell_type": "code",
   "execution_count": null,
   "metadata": {},
   "outputs": [],
   "source": [
    "kpms_pca.DimsExplainedVariance()"
   ]
  },
  {
   "cell_type": "code",
   "execution_count": null,
   "metadata": {},
   "outputs": [],
   "source": [
    "kpms_pca.DimsExplainedVariance.populate()"
   ]
  },
  {
   "cell_type": "code",
   "execution_count": null,
   "metadata": {},
   "outputs": [],
   "source": [
    "kpms_pca.DimsExplainedVariance()"
   ]
  },
  {
   "cell_type": "code",
   "execution_count": null,
   "metadata": {},
   "outputs": [],
   "source": [
    "# Plotting before the user's choice of the latent dimensions to use in the next step\n",
    "from keypoint_moseq import load_pca, plot_scree, plot_pcs\n",
    "from element_moseq.readers.kpms_reader import load_dj_config\n",
    "\n",
    "output_dir = (kpms_pca.PCATask & key).fetch1(\"output_dir\")\n",
    "config = load_dj_config(output_dir, check_if_valid=False, build_indexes=False)\n",
    "\n",
    "pca = load_pca(output_dir)\n",
    "\n",
    "plot_scree(pca, project_dir=output_dir)\n",
    "plot_pcs(pca, project_dir=output_dir, **config)"
   ]
  },
  {
   "cell_type": "markdown",
   "metadata": {},
   "source": [
    "## 2. KPMS Model prefitting and full fitting\n"
   ]
  },
  {
   "cell_type": "markdown",
   "metadata": {},
   "source": [
    "1. **Initialization**: Auto-regressive (AR) parameters and syllable sequences are randomly initialized using pose trajectories from PCA\n",
    "2. **Fitting an AR-HMM**: AR parameters, transition probabilities and syllable sequences are iteratively updated through Gibbs sampling\n",
    "3. **Fitting the full model**: all params, including both AR-HMM as well as centroid, heading, noise-estimates and continuous latent states (i.e. pose trajectories) are iteratively updated through Gibss sampling. Step useful for noisy data.\n",
    "4. **Extracting model results**: the learned states of the model are parsed and saved to disk for visualization and downstream analysis.\n"
   ]
  },
  {
   "cell_type": "code",
   "execution_count": null,
   "metadata": {},
   "outputs": [],
   "source": [
    "(\n",
    "    dj.Diagram(subject.Subject)\n",
    "    + dj.Diagram(session.Session)\n",
    "    + dj.Diagram(kpms_pca)\n",
    "    + dj.Diagram(kpms_model)\n",
    ")"
   ]
  },
  {
   "cell_type": "markdown",
   "metadata": {},
   "source": [
    "Adjust `kappa` hyperparameter to achieve the desired distribution of syllable durations. Higher values of kappa lead to longer syllables.\n",
    "\n",
    "Let's chose a kappa value that yields a median syllable duration of 12 frames.\n"
   ]
  },
  {
   "cell_type": "code",
   "execution_count": null,
   "metadata": {},
   "outputs": [],
   "source": [
    "fps = kpms_pca.RecordingInfo.fetch1(\"fps_average\")\n",
    "kappa_min = (12 / fps) * 1000 #ms\n",
    "kappa_max = 1e6 #ms \n",
    "kappa_range = np.logspace(np.log10(kappa_min), np.log10(kappa_max), num=3)\n",
    "print('kappa range = {} ms'.format(kappa_range))\n"
   ]
  },
  {
   "cell_type": "markdown",
   "metadata": {},
   "source": [
    "For rodents it's recommended a target duration of ~400ms\n"
   ]
  },
  {
   "cell_type": "markdown",
   "metadata": {},
   "source": [
    "The kappa value in the config is only used during model initialization.\n"
   ]
  },
  {
   "cell_type": "code",
   "execution_count": null,
   "metadata": {},
   "outputs": [],
   "source": [
    "prefitting_key = {\n",
    "    **key,\n",
    "    'pre_latent_dim': 4,\n",
    "    'pre_kappa': 10000,\n",
    "    'pre_num_iterations': 2,\n",
    "    'pre_fitting_desc': \"initialization of model\",\n",
    "    'model_initialization': 'Yes',\n",
    "} \n",
    "\n",
    "kpms_model.PreFittingTask.insert1(prefitting_key, skip_duplicates=True)\n"
   ]
  },
  {
   "cell_type": "code",
   "execution_count": null,
   "metadata": {},
   "outputs": [],
   "source": [
    "# prefitting_keys = [{\n",
    "#     **key,\n",
    "#     'latent_dim': 3,\n",
    "#     'kappa': int(i),\n",
    "#     'num_iterations': 50,\n",
    "#     'pre_fitting_desc': f\"Prefitting {c}\"\n",
    "# } for c, i in enumerate(kappa_range, start=1)]\n",
    "\n",
    "# prefitting_keys"
   ]
  },
  {
   "cell_type": "code",
   "execution_count": null,
   "metadata": {},
   "outputs": [],
   "source": [
    "# for prefitting_key in prefitting_keys:\n",
    "#     kpms_model.PreFittingTask.insert1(prefitting_key, skip_duplicates=True)"
   ]
  },
  {
   "cell_type": "code",
   "execution_count": null,
   "metadata": {},
   "outputs": [],
   "source": [
    "kpms_model.PreFittingTask()"
   ]
  },
  {
   "cell_type": "code",
   "execution_count": null,
   "metadata": {},
   "outputs": [],
   "source": [
    "kpms_model.PreFitting.populate()"
   ]
  },
  {
   "cell_type": "code",
   "execution_count": null,
   "metadata": {},
   "outputs": [],
   "source": [
    "kpms_model.PreFitting()"
   ]
  },
  {
   "cell_type": "code",
   "execution_count": null,
   "metadata": {},
   "outputs": [],
   "source": [
    "kpms_model.FullFittingTask()"
   ]
  },
  {
   "cell_type": "code",
   "execution_count": null,
   "metadata": {},
   "outputs": [],
   "source": [
    "fullfitting_key = ({**key,\n",
    "                      'full_latent_dim': 4,\n",
    "                      'full_kappa': 10000,\n",
    "                      'full_num_iterations':2,\n",
    "                      'full_fitting_desc':\"Testing full fitting model and generate results\",\n",
    "                      'task_mode':'trigger',\n",
    "                      'sort_syllables':True,\n",
    "                      'results_as_csv':True,\n",
    "                      'visualizations':True})\n",
    "\n",
    "kpms_model.FullFittingTask.insert1(fullfitting_key, skip_duplicates=True)                                  "
   ]
  },
  {
   "cell_type": "code",
   "execution_count": null,
   "metadata": {},
   "outputs": [],
   "source": [
    "kpms_model.FullFittingTask()"
   ]
  },
  {
   "cell_type": "code",
   "execution_count": null,
   "metadata": {},
   "outputs": [],
   "source": [
    "kpms_model.FullFitting.populate()"
   ]
  },
  {
   "cell_type": "code",
   "execution_count": null,
   "metadata": {},
   "outputs": [],
   "source": [
    "kpms_model.FullFitting()"
   ]
  },
  {
   "cell_type": "markdown",
   "metadata": {},
   "source": [
    "## 3. Generate results\n"
   ]
  },
  {
   "cell_type": "code",
   "execution_count": null,
   "metadata": {},
   "outputs": [],
   "source": [
    "kpms_model.GenerateResults.populate()"
   ]
  }
 ],
 "metadata": {
  "kernelspec": {
   "display_name": "kpms_test",
   "language": "python",
   "name": "python3"
  },
  "language_info": {
   "codemirror_mode": {
    "name": "ipython",
    "version": 3
   },
   "file_extension": ".py",
   "mimetype": "text/x-python",
   "name": "python",
   "nbconvert_exporter": "python",
   "pygments_lexer": "ipython3",
   "version": "3.9.18"
  },
  "orig_nbformat": 4
 },
 "nbformat": 4,
 "nbformat_minor": 2
}
